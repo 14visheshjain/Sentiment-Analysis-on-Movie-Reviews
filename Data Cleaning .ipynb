{
 "cells": [
  {
   "cell_type": "markdown",
   "metadata": {},
   "source": [
    "# Data Cleaning"
   ]
  },
  {
   "cell_type": "code",
   "execution_count": 1,
   "metadata": {},
   "outputs": [],
   "source": [
    "Sample_Text = \"Title: Opera (1987) Director: Dario Argento Cast: Cristina Masillach, Ian Charleson, Urbano Barberini, Daria Nicolodi Review: The only other Argento movie I had seen was Suspiria and that one blew me away with its style, colors and spooky story line. I next decided to go with Opera as I had been told it was one of his best. Man, I think I'm discovering what will ultimately be one of my favorite horror directors.<br /><br />Opera is about a young opera singer who gets her big break when the main star of a creepy modern opera take on Mc Beth gets hit by a car. Betty is the understudy so she gets to do the part herself. Too bad for her there's a psycho after her who makes her watch the brutal murders of her friends and co-workers.<br /><br />Wow, Id heard good things about this here flick, but I wasn't prepared for the level of greatness to which this film would take me. Yeah the movie has its shortcomings to which Ill get to later. But for the most part the movie blew me away.<br /><br />First off, this movie is not as filled with lots of colors as Suspiria. I was expecting it to be a bit like suspiria in that department, but no, to my surprise it had its own look and feel. The film is somehow devoid of color. It does have lots in colors in certain scenes (like the masterful kitchen/living room sequence) where Argento fills the screen with lush greens and blues, but for the most part the film has a grayish, black tone to it all through out and I liked that it had its own distinctive look.<br /><br />The real stars of this show are the incredibly well orchestrated death sequences. Wow. Every death scene was like a work of art. Beauty in destruction. These are not just your typical hack and slash death sequences, these deaths were carefully constructed to shock and get the most out of its situations. Loved every second of them, there's plenty of blood and mayhem here, but with style. Not gonna spoil em though.<br /><br />Then there's the direction. Man, there's some really original and beautiful shots on this one. I loved the inventive use of the camera on this one. You thought that Tarantinos shot in Kill Bill vol. 1 where we see the bullet coming out of the chamber of the gun was original? Well this is the movie he lifted it from! I honestly believe that Tarantino was heavily influenced by this specific movie with certain scenes in Kill Bill Vol. 1. Heck in the making of feature he mentions that the whole scene with Beatrix in the hospital and Elle Driver coming to kill her was influenced by Italian Giallos, and here my friends is the proof of that. Anyhows, Tarantino references aside, this movie has some amazing camera shots, like those scenes of the crows flying through the crowd in the opera house...great stuff. And a main reason why Argentos becoming one of my favorites.<br /><br />The acting from most of the cast was alright, but the best by far was Cristina Marsillach as the tortured young opera singer Betty. The looks in her eyes as the murders were being committed were great. The rest of the cast was a little wooden and stiff, but nothing that would deter your enjoyment of the film.<br /><br />There were very few things I didn't like about this movie. First off logic was thrown out the window in certain scenes. Specially those involving Bettys reactions after shes seen the murders. It seem to me that for the longest time, she just went on about her business, not telling anyone about the whole thing. Not even the police. I mean if you see someone brutally murder a loved one in front of your eyes...you don't just walk away from the murder scene and continue with your life. Someone would have connected her to the murders. She might have even become a suspect herself...but no. Also the ending is a bit anti climactic. You'll have to see this to understand, but it seemed a bit unnecessary the way the film ended, it felt like it could have ended earlier. It would not have felt so redundant. But thats about it, not real big problems for me really since I was enjoying the rest of this beautiful film.<br /><br />I've still got a lot of Argento territory to cover...but I'm devouring every step of the way like if I was eating a plate of the most expensive caviar. This guys really good. I think of his films as works of art, and I've only seen two of em! Cant wait to discover the rest of his films. Argento, you the man! <br /><br />Rating: 41/2 out of 5\"\n"
   ]
  },
  {
   "cell_type": "markdown",
   "metadata": {},
   "source": [
    "# Libraries"
   ]
  },
  {
   "cell_type": "code",
   "execution_count": 68,
   "metadata": {},
   "outputs": [],
   "source": [
    "from nltk.tokenize import RegexpTokenizer\n",
    "from nltk.stem.porter import PorterStemmer\n",
    "from nltk.corpus import stopwords\n",
    "import numpy as np"
   ]
  },
  {
   "cell_type": "code",
   "execution_count": 69,
   "metadata": {},
   "outputs": [],
   "source": [
    "tokenizer = RegexpTokenizer(r'\\w+')\n",
    "english_stopwords = set(stopwords.words('english'))\n",
    "ps = PorterStemmer()"
   ]
  },
  {
   "cell_type": "code",
   "execution_count": 70,
   "metadata": {},
   "outputs": [],
   "source": [
    "def clean_review(review):\n",
    "    \n",
    "    # first of all make all the letters in lower case so that stopword can be removed easily \n",
    "    review = review.lower()\n",
    "    \n",
    "    # given data is collected using web scrapping so first remove all redundant data\n",
    "    review = review.replace(\"<br /><br />\" , \" \")\n",
    "    \n",
    "    # now break the sentence into words removing and special characters as well\n",
    "    tokens  = tokenizer.tokenize(review)\n",
    "    \n",
    "    # now remove all stopwords\n",
    "    new_tokens = [token for token in tokens if token not in english_stopwords]\n",
    "    \n",
    "    \n",
    "    # now do stemming  eg jumping to jump \n",
    "    cleaned_tokens = [ps.stem(token) for token in new_tokens]\n",
    "    \n",
    "    return ' '.join(cleaned_tokens)\n",
    "    "
   ]
  },
  {
   "cell_type": "code",
   "execution_count": 71,
   "metadata": {},
   "outputs": [
    {
     "data": {
      "text/plain": [
       "'titl opera 1987 director dario argento cast cristina masillach ian charleson urbano barberini daria nicolodi review argento movi seen suspiria one blew away style color spooki stori line next decid go opera told one best man think discov ultim one favorit horror director opera young opera singer get big break main star creepi modern opera take mc beth get hit car betti understudi get part bad psycho make watch brutal murder friend co worker wow id heard good thing flick prepar level great film would take yeah movi shortcom ill get later part movi blew away first movi fill lot color suspiria expect bit like suspiria depart surpris look feel film somehow devoid color lot color certain scene like master kitchen live room sequenc argento fill screen lush green blue part film grayish black tone like distinct look real star show incred well orchestr death sequenc wow everi death scene like work art beauti destruct typic hack slash death sequenc death care construct shock get situat love everi second plenti blood mayhem style gonna spoil em though direct man realli origin beauti shot one love invent use camera one thought tarantino shot kill bill vol 1 see bullet come chamber gun origin well movi lift honestli believ tarantino heavili influenc specif movi certain scene kill bill vol 1 heck make featur mention whole scene beatrix hospit ell driver come kill influenc italian giallo friend proof anyhow tarantino refer asid movi amaz camera shot like scene crow fli crowd opera hous great stuff main reason argento becom one favorit act cast alright best far cristina marsillach tortur young opera singer betti look eye murder commit great rest cast littl wooden stiff noth would deter enjoy film thing like movi first logic thrown window certain scene special involv betti reaction she seen murder seem longest time went busi tell anyon whole thing even polic mean see someon brutal murder love one front eye walk away murder scene continu life someon would connect murder might even becom suspect also end bit anti climact see understand seem bit unnecessari way film end felt like could end earlier would felt redund that real big problem realli sinc enjoy rest beauti film still got lot argento territori cover devour everi step way like eat plate expens caviar guy realli good think film work art seen two em cant wait discov rest film argento man rate 41 2 5'"
      ]
     },
     "execution_count": 71,
     "metadata": {},
     "output_type": "execute_result"
    }
   ],
   "source": [
    "clean_review(Sample_Text)"
   ]
  },
  {
   "cell_type": "code",
   "execution_count": 72,
   "metadata": {},
   "outputs": [],
   "source": [
    "import pandas as pd"
   ]
  },
  {
   "cell_type": "code",
   "execution_count": 73,
   "metadata": {},
   "outputs": [],
   "source": [
    "def clean_input_data(inputfile , outputfile):\n",
    "    ##loading data\n",
    "    df = pd.read_csv(inputfile)\n",
    "    \n",
    "    X = df.values[: , 0 ]\n",
    "    Y = df.values[: , 1 ]\n",
    "    \n",
    "    for i in range(X.shape[0]):\n",
    "        ## cleaning each and every review\n",
    "        X[i] = clean_review(X[i])\n",
    "    \n",
    "    new_Y = np.zeros( Y.shape)\n",
    "    for i in range(Y.shape[0]):\n",
    "        if(Y[i] == 'pos'):\n",
    "            new_Y[i]=1\n",
    "        \n",
    "    \n",
    "    \n",
    "    # creating new data set \n",
    "    df = pd.DataFrame(list(zip(X , new_Y)), \n",
    "               columns =['review', 'label'])\n",
    "    \n",
    "    ## storing cleaned dataset\n",
    "    df.to_csv(outputfile , index=False)"
   ]
  },
  {
   "cell_type": "code",
   "execution_count": 74,
   "metadata": {},
   "outputs": [],
   "source": [
    "# Dataset location\n",
    "inputfile = \"D:\\github\\Sentiment Analysis\\Train\\Train.csv\""
   ]
  },
  {
   "cell_type": "code",
   "execution_count": 75,
   "metadata": {},
   "outputs": [],
   "source": [
    "outputfile = \"Cleaned_review.csv\""
   ]
  },
  {
   "cell_type": "code",
   "execution_count": 76,
   "metadata": {},
   "outputs": [],
   "source": [
    "clean_input_data(inputfile , outputfile)"
   ]
  },
  {
   "cell_type": "markdown",
   "metadata": {},
   "source": [
    "## for testing data"
   ]
  },
  {
   "cell_type": "code",
   "execution_count": 66,
   "metadata": {},
   "outputs": [],
   "source": [
    "def clean_testing_data(inputfile , outputfile):\n",
    "    ##loading data\n",
    "    df = pd.read_csv(inputfile)\n",
    "    \n",
    "    X = df.values[: , 0 ]\n",
    "    \n",
    "    for i in range(X.shape[0]):\n",
    "        ## cleaning each and every review\n",
    "        X[i] = clean_review(X[i])\n",
    "     \n",
    "    # creating new data set \n",
    "    df = pd.DataFrame(list(zip(X )), \n",
    "               columns =['review'])\n",
    "    \n",
    "    ## storing cleaned dataset\n",
    "    df.to_csv(outputfile , index=False)"
   ]
  },
  {
   "cell_type": "code",
   "execution_count": 67,
   "metadata": {},
   "outputs": [],
   "source": [
    "inputfile = \"D:\\github\\Sentiment Analysis\\Test\\Test.csv\"\n",
    "outputfile = \"Cleaned_Testing_Data.csv\"\n",
    "clean_testing_data(inputfile , outputfile)"
   ]
  },
  {
   "cell_type": "code",
   "execution_count": null,
   "metadata": {},
   "outputs": [],
   "source": []
  }
 ],
 "metadata": {
  "kernelspec": {
   "display_name": "Python 3",
   "language": "python",
   "name": "python3"
  },
  "language_info": {
   "codemirror_mode": {
    "name": "ipython",
    "version": 3
   },
   "file_extension": ".py",
   "mimetype": "text/x-python",
   "name": "python",
   "nbconvert_exporter": "python",
   "pygments_lexer": "ipython3",
   "version": "3.6.6"
  }
 },
 "nbformat": 4,
 "nbformat_minor": 2
}
